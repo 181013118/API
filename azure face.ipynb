{
 "cells": [
  {
   "cell_type": "markdown",
   "metadata": {},
   "source": [
    "# Azure Face - Find Similar API"
   ]
  },
  {
   "cell_type": "markdown",
   "metadata": {},
   "source": [
    "## 创建facelist"
   ]
  },
  {
   "cell_type": "code",
   "execution_count": 55,
   "metadata": {},
   "outputs": [],
   "source": [
    "#先写一下通用的东西\n",
    "import requests #导入requests模块\n",
    "import json\n",
    "create_facelists_url = \"https://westcentralus.api.cognitive.microsoft.com/face/v1.0/facelists/{faceListId}\" \n",
    "subscription_key = \"54db1a3d5be54842aa2ad96ffd550ea7\"\n",
    "assert subscription_key\n",
    "headers = {\n",
    "    # Request headers\n",
    "    'Content-Type': 'application/json',\n",
    "    'Ocp-Apim-Subscription-Key': subscription_key,\n",
    "}"
   ]
  },
  {
   "cell_type": "code",
   "execution_count": 80,
   "metadata": {},
   "outputs": [
    {
     "data": {
      "text/plain": [
       "200"
      ]
     },
     "execution_count": 80,
     "metadata": {},
     "output_type": "execute_result"
    }
   ],
   "source": [
    "# 1、create 创建一个装相片的列表\n",
    "data = {\n",
    "    \"name\": \"list_pm_c\",\n",
    "    \"userData\": \"friends\",\n",
    "    \"recognitionModel\": \"recognition_02\"\n",
    "}\n",
    "params = {\n",
    "    # Request parameters    \n",
    "   \n",
    "    \"faceListId\":\"likelisa\"\n",
    "    \n",
    "#     'detectionModel': 'detection_01',\n",
    "}\n",
    "r_create = requests.put(create_facelists_url,headers=headers,params=params,json=data)\n",
    "# 请求成功，返回空字符串\n",
    "r_create.status_code"
   ]
  },
  {
   "cell_type": "code",
   "execution_count": 23,
   "metadata": {},
   "outputs": [
    {
     "data": {
      "text/plain": [
       "b''"
      ]
     },
     "execution_count": 23,
     "metadata": {},
     "output_type": "execute_result"
    }
   ],
   "source": [
    "r_create.content"
   ]
  },
  {
   "cell_type": "markdown",
   "metadata": {},
   "source": [
    "## 添加face"
   ]
  },
  {
   "cell_type": "code",
   "execution_count": 81,
   "metadata": {},
   "outputs": [],
   "source": [
    "#先加一张脸试试\n",
    "# 2、Add face\n",
    "add_face_url =\"https://westcentralus.api.cognitive.microsoft.com/face/v1.0/facelists/{faceListId}/persistedFaces\"\n",
    "subscription_key = \"54db1a3d5be54842aa2ad96ffd550ea7\"\n",
    "assert subscription_key\n",
    "headers = {\n",
    "    # Request headers\n",
    "    'Content-Type': 'application/json',\n",
    "    'Ocp-Apim-Subscription-Key': subscription_key,\n",
    "}\n",
    "img_url = \"https://wx1.sinaimg.cn/thumb300/b5d68da5gy1gcr6iee0pnj20u01904qp.jpg\"\n",
    "\n",
    "params_add_face={\n",
    "    \"faceListId\":\"likelisa\",\n",
    "    \"userData\":\"许佳琪\"\n",
    "}\n",
    "\n",
    "r_add_face = requests.post(add_face_url,headers=headers,params=params_add_face,json={\"url\":img_url})\n",
    "# r = requests.post(add_face, headers=headers,params = params,json={\"url\": add_face_image})"
   ]
  },
  {
   "cell_type": "code",
   "execution_count": 82,
   "metadata": {},
   "outputs": [],
   "source": [
    "# 封装成函数方便添加图片\n",
    "def AddFace(img_url=str,userData=str):\n",
    "    add_face_url =\"https://westcentralus.api.cognitive.microsoft.com/face/v1.0/facelists/{faceListId}/persistedFaces\"\n",
    "    subscription_key = \"54db1a3d5be54842aa2ad96ffd550ea7\"\n",
    "    assert subscription_key\n",
    "    headers = {\n",
    "        # Request headers\n",
    "        'Content-Type': 'application/json',\n",
    "        'Ocp-Apim-Subscription-Key': subscription_key,\n",
    "    }\n",
    "    img_url = img_url\n",
    "\n",
    "    params_add_face={\n",
    "        \"faceListId\":\"likelisa\",\n",
    "        \"userData\":userData\n",
    "    }\n",
    "    r_add_face = requests.post(add_face_url,headers=headers,params=params_add_face,json={\"url\":img_url})\n",
    "    return r_add_face.status_code#返回出状态码"
   ]
  },
  {
   "cell_type": "code",
   "execution_count": 83,
   "metadata": {},
   "outputs": [],
   "source": [
    "# 顺便把查看列表的也给封装了\n",
    "# Get facelist\n",
    "def GetFacelist():\n",
    "    get_facelist_url = \"https://westcentralus.api.cognitive.microsoft.com/face/v1.0/facelists/{faceListId}\"\n",
    "    data = {\n",
    "        \"faceListId\":\"likelisa\",\n",
    "    }\n",
    "    r_get_facelist = requests.get(get_facelist_url,headers=headers,params=data)\n",
    "    return r_get_facelist.json()"
   ]
  },
  {
   "cell_type": "code",
   "execution_count": 84,
   "metadata": {},
   "outputs": [
    {
     "data": {
      "text/plain": [
       "200"
      ]
     },
     "execution_count": 84,
     "metadata": {},
     "output_type": "execute_result"
    }
   ],
   "source": [
    "AddFace(\"https://wx1.sinaimg.cn/thumb300/62563bcbly1gcr4y9073yj20u01901kr.jpg\",\"曾可妮\")\n",
    "AddFace(\"https://wx2.sinaimg.cn/thumb300/b26538a1ly1gcr60wo4iuj20u0190b29.jpg\",\"喻言\")\n",
    "AddFace(\"https://wx1.sinaimg.cn/thumb300/79e1b0cdly1gdm7mgl9yuj20u01hc7wi.jpg\",\"王艺瑾\")\n",
    "AddFace(\"https://wx3.sinaimg.cn/thumb300/6ac82606ly1gcr64f9f6lj20u0190tq9.jpg\",\"马蜀君\")\n",
    "AddFace(\"https://wx4.sinaimg.cn/thumb300/005YQaKfgy1gcr75jw9xbj30u01901kx.jpg\",\"宋昕冉\")\n",
    "AddFace(\"https://wx1.sinaimg.cn/thumb300/b5ff8eb1gy1gcr73qfe5lj20u01901kx.jpg\",\"莫寒\")\n",
    "AddFace(\"https://wx1.sinaimg.cn/thumb300/dab1e49bgy1gcr72snpogj20u0190kjl.jpg\",\"孙芮\")\n",
    "AddFace(\"https://wx1.sinaimg.cn/thumb300/006csUHZgy1gcr777ytz7j30u01907wh.jpg\",\"段艺璇\")\n",
    "AddFace(\"https://wx3.sinaimg.cn/thumb300/aac6adecly1gcr6y0tw5lj20u0190tho.jpg\",\"葛鑫怡\")\n",
    "AddFace(\"https://wx3.sinaimg.cn/thumb300/b5d74173gy1gcr6gu5w8qj20u0190npd.jpg\",\"张语格\")\n",
    "AddFace(\"https://wx1.sinaimg.cn/thumb300/b5d68da5gy1gcr6iee0pnj20u01904qp.jpg\",\"许佳琪\")\n",
    "AddFace(\"https://wx1.sinaimg.cn/thumb300/756ec5d5ly1gcr4zth1t5j20u0190qv1.jpg\",\"刘令姿\")"
   ]
  },
  {
   "cell_type": "markdown",
   "metadata": {},
   "source": [
    "## 检测face"
   ]
  },
  {
   "cell_type": "code",
   "execution_count": 85,
   "metadata": {},
   "outputs": [
    {
     "data": {
      "text/plain": [
       "'[{\"faceId\": \"e7adca6e-0013-4207-bb46-a89fc3d02af8\", \"faceRectangle\": {\"top\": 12, \"left\": 36, \"width\": 80, \"height\": 80}, \"faceAttributes\": {\"smile\": 0.0, \"headPose\": {\"pitch\": -19.2, \"roll\": 7.1, \"yaw\": -8.7}, \"gender\": \"female\", \"age\": 19.0, \"facialHair\": {\"moustache\": 0.0, \"beard\": 0.0, \"sideburns\": 0.0}, \"glasses\": \"NoGlasses\", \"emotion\": {\"anger\": 0.0, \"contempt\": 0.0, \"disgust\": 0.0, \"fear\": 0.0, \"happiness\": 0.0, \"neutral\": 0.995, \"sadness\": 0.005, \"surprise\": 0.0}, \"blur\": {\"blurLevel\": \"low\", \"value\": 0.0}, \"exposure\": {\"exposureLevel\": \"goodExposure\", \"value\": 0.67}, \"noise\": {\"noiseLevel\": \"low\", \"value\": 0.0}, \"makeup\": {\"eyeMakeup\": true, \"lipMakeup\": true}, \"accessories\": [], \"occlusion\": {\"foreheadOccluded\": false, \"eyeOccluded\": false, \"mouthOccluded\": false}, \"hair\": {\"bald\": 0.02, \"invisible\": false, \"hairColor\": [{\"color\": \"brown\", \"confidence\": 0.99}, {\"color\": \"blond\", \"confidence\": 0.91}, {\"color\": \"red\", \"confidence\": 0.53}, {\"color\": \"gray\", \"confidence\": 0.11}, {\"color\": \"black\", \"confidence\": 0.07}, {\"color\": \"other\", \"confidence\": 0.05}]}}}]'"
      ]
     },
     "execution_count": 85,
     "metadata": {},
     "output_type": "execute_result"
    }
   ],
   "source": [
    "# 3、检测人脸的id\n",
    "# replace <My Endpoint String> with the string from your endpoint URL\n",
    "face_api_url = 'https://westcentralus.api.cognitive.microsoft.com/face/v1.0/detect'\n",
    "\n",
    "# 请求正文\n",
    "image_url = 'https://wx2.sinaimg.cn/thumb180/007qgGVwgy1gdprfxjxywj30u0140dlj.jpg'\n",
    "\n",
    "headers = {'Ocp-Apim-Subscription-Key': subscription_key}\n",
    "\n",
    "# 请求参数\n",
    "params = {\n",
    "    'returnFaceId': 'true',\n",
    "    'returnFaceLandmarks': 'false',\n",
    "    # 选择model\n",
    "    'recognitionModel':'recognition_02',\n",
    "    'detectionModel':'detection_01',\n",
    "    # 可选参数,请仔细阅读API文档\n",
    "    'returnFaceAttributes': 'age,gender,headPose,smile,facialHair,glasses,emotion,hair,makeup,occlusion,accessories,blur,exposure,noise',\n",
    "}\n",
    "\n",
    "response = requests.post(face_api_url, params=params,\n",
    "                         headers=headers, json={\"url\": image_url})\n",
    "# json.dumps 将json--->字符串\n",
    "json.dumps(response.json())"
   ]
  },
  {
   "cell_type": "code",
   "execution_count": 115,
   "metadata": {},
   "outputs": [],
   "source": [
    "lisa = response.json()[0][\"faceId\"]"
   ]
  },
  {
   "cell_type": "markdown",
   "metadata": {},
   "source": [
    "## 返回相似度"
   ]
  },
  {
   "cell_type": "code",
   "execution_count": 119,
   "metadata": {},
   "outputs": [],
   "source": [
    "#4、Find similars\n",
    "\n",
    "findsimilars_url = \"https://westcentralus.api.cognitive.microsoft.com/face/v1.0/findsimilars\"\n",
    "\n",
    "# 请求正文 faceId需要先检测一张照片获取\n",
    "data_findsimilars = {\n",
    "    \"faceId\":lisa,\n",
    "    \"faceListId\":\"likelisa\",\n",
    "    \"maxNumOfCandidatesReturned\": 10,\n",
    "    \"mode\": \"matchFace\"#matchPerson\n",
    "    }\n",
    "\n",
    "r_findsimilars = requests.post(findsimilars_url,headers=headers,json=data_findsimilars)"
   ]
  },
  {
   "cell_type": "code",
   "execution_count": 120,
   "metadata": {},
   "outputs": [
    {
     "data": {
      "text/plain": [
       "200"
      ]
     },
     "execution_count": 120,
     "metadata": {},
     "output_type": "execute_result"
    }
   ],
   "source": [
    "r_findsimilars.status_code"
   ]
  },
  {
   "cell_type": "code",
   "execution_count": 121,
   "metadata": {},
   "outputs": [
    {
     "data": {
      "text/plain": [
       "[{'persistedFaceId': '992ae463-5c7a-490f-b7a3-cb574e982162',\n",
       "  'confidence': 0.23632},\n",
       " {'persistedFaceId': 'ecf5d926-9624-496b-801b-0447481baec2',\n",
       "  'confidence': 0.16986},\n",
       " {'persistedFaceId': '2b3c6d97-6575-4823-9388-82fd5bf9af4c',\n",
       "  'confidence': 0.10186},\n",
       " {'persistedFaceId': '98aba501-4d12-456e-bc22-4a7000667081',\n",
       "  'confidence': 0.10186},\n",
       " {'persistedFaceId': '3756d37a-3de5-4bc4-afb9-c39dedd3aaee',\n",
       "  'confidence': 0.10186},\n",
       " {'persistedFaceId': '53f64eeb-2d9e-4a75-af09-d777f95a10bc',\n",
       "  'confidence': 0.09914},\n",
       " {'persistedFaceId': '169faae4-bc26-4e43-afcd-cadeba31c037',\n",
       "  'confidence': 0.09779},\n",
       " {'persistedFaceId': '709d8326-139d-4026-9946-edf5f16fb7a0',\n",
       "  'confidence': 0.09728},\n",
       " {'persistedFaceId': 'f439eda6-0b30-4717-a46d-87015fdff6c2',\n",
       "  'confidence': 0.09586},\n",
       " {'persistedFaceId': '0996be45-c200-405a-8930-c26ee92247f2',\n",
       "  'confidence': 0.0955}]"
      ]
     },
     "execution_count": 121,
     "metadata": {},
     "output_type": "execute_result"
    }
   ],
   "source": [
    "r_findsimilars.json()"
   ]
  },
  {
   "cell_type": "markdown",
   "metadata": {},
   "source": [
    "## 表格"
   ]
  },
  {
   "cell_type": "code",
   "execution_count": 124,
   "metadata": {},
   "outputs": [
    {
     "data": {
      "text/plain": [
       "{'persistedFaces': [{'persistedFaceId': '2b3c6d97-6575-4823-9388-82fd5bf9af4c',\n",
       "   'userData': '许佳琪'},\n",
       "  {'persistedFaceId': '992ae463-5c7a-490f-b7a3-cb574e982162',\n",
       "   'userData': '曾可妮'},\n",
       "  {'persistedFaceId': 'e9af1420-37f2-416d-90d5-b2a89a5e9398',\n",
       "   'userData': '喻言'},\n",
       "  {'persistedFaceId': '53f64eeb-2d9e-4a75-af09-d777f95a10bc',\n",
       "   'userData': '马蜀君'},\n",
       "  {'persistedFaceId': 'ecf5d926-9624-496b-801b-0447481baec2',\n",
       "   'userData': '宋昕冉'},\n",
       "  {'persistedFaceId': '0996be45-c200-405a-8930-c26ee92247f2',\n",
       "   'userData': '莫寒'},\n",
       "  {'persistedFaceId': 'f439eda6-0b30-4717-a46d-87015fdff6c2',\n",
       "   'userData': '孙芮'},\n",
       "  {'persistedFaceId': '709d8326-139d-4026-9946-edf5f16fb7a0',\n",
       "   'userData': '段艺璇'},\n",
       "  {'persistedFaceId': '169faae4-bc26-4e43-afcd-cadeba31c037',\n",
       "   'userData': '葛鑫怡'},\n",
       "  {'persistedFaceId': '13da4f84-3594-4761-9667-f4264e2f3f5f',\n",
       "   'userData': '张语格'},\n",
       "  {'persistedFaceId': '98aba501-4d12-456e-bc22-4a7000667081',\n",
       "   'userData': '许佳琪'},\n",
       "  {'persistedFaceId': 'f198b7ac-1fc4-40e5-a395-4133afb03f1b',\n",
       "   'userData': '刘令姿'},\n",
       "  {'persistedFaceId': '3756d37a-3de5-4bc4-afb9-c39dedd3aaee',\n",
       "   'userData': '许佳琪'}],\n",
       " 'faceListId': 'likelisa',\n",
       " 'name': 'list_pm_c',\n",
       " 'userData': 'friends'}"
      ]
     },
     "execution_count": 124,
     "metadata": {},
     "output_type": "execute_result"
    }
   ],
   "source": [
    "import pandas as pd\n",
    "\n",
    "get_facelist_url = \"https://westcentralus.api.cognitive.microsoft.com/face/v1.0/facelists/{faceListId}\"\n",
    "\n",
    "data = {\n",
    "    \"faceListId\":\"likelisa\",\n",
    "\n",
    "}\n",
    "\n",
    "r_get_facelist = requests.get(get_facelist_url,headers=headers,params=data)\n",
    "r_get_facelist.json()"
   ]
  },
  {
   "cell_type": "code",
   "execution_count": 125,
   "metadata": {},
   "outputs": [
    {
     "data": {
      "text/html": [
       "<div>\n",
       "<style scoped>\n",
       "    .dataframe tbody tr th:only-of-type {\n",
       "        vertical-align: middle;\n",
       "    }\n",
       "\n",
       "    .dataframe tbody tr th {\n",
       "        vertical-align: top;\n",
       "    }\n",
       "\n",
       "    .dataframe thead th {\n",
       "        text-align: right;\n",
       "    }\n",
       "</style>\n",
       "<table border=\"1\" class=\"dataframe\">\n",
       "  <thead>\n",
       "    <tr style=\"text-align: right;\">\n",
       "      <th></th>\n",
       "      <th>persistedFaceId</th>\n",
       "      <th>userData</th>\n",
       "    </tr>\n",
       "  </thead>\n",
       "  <tbody>\n",
       "    <tr>\n",
       "      <th>0</th>\n",
       "      <td>2b3c6d97-6575-4823-9388-82fd5bf9af4c</td>\n",
       "      <td>许佳琪</td>\n",
       "    </tr>\n",
       "    <tr>\n",
       "      <th>1</th>\n",
       "      <td>992ae463-5c7a-490f-b7a3-cb574e982162</td>\n",
       "      <td>曾可妮</td>\n",
       "    </tr>\n",
       "    <tr>\n",
       "      <th>2</th>\n",
       "      <td>e9af1420-37f2-416d-90d5-b2a89a5e9398</td>\n",
       "      <td>喻言</td>\n",
       "    </tr>\n",
       "    <tr>\n",
       "      <th>3</th>\n",
       "      <td>53f64eeb-2d9e-4a75-af09-d777f95a10bc</td>\n",
       "      <td>马蜀君</td>\n",
       "    </tr>\n",
       "    <tr>\n",
       "      <th>4</th>\n",
       "      <td>ecf5d926-9624-496b-801b-0447481baec2</td>\n",
       "      <td>宋昕冉</td>\n",
       "    </tr>\n",
       "    <tr>\n",
       "      <th>5</th>\n",
       "      <td>0996be45-c200-405a-8930-c26ee92247f2</td>\n",
       "      <td>莫寒</td>\n",
       "    </tr>\n",
       "    <tr>\n",
       "      <th>6</th>\n",
       "      <td>f439eda6-0b30-4717-a46d-87015fdff6c2</td>\n",
       "      <td>孙芮</td>\n",
       "    </tr>\n",
       "    <tr>\n",
       "      <th>7</th>\n",
       "      <td>709d8326-139d-4026-9946-edf5f16fb7a0</td>\n",
       "      <td>段艺璇</td>\n",
       "    </tr>\n",
       "    <tr>\n",
       "      <th>8</th>\n",
       "      <td>169faae4-bc26-4e43-afcd-cadeba31c037</td>\n",
       "      <td>葛鑫怡</td>\n",
       "    </tr>\n",
       "    <tr>\n",
       "      <th>9</th>\n",
       "      <td>13da4f84-3594-4761-9667-f4264e2f3f5f</td>\n",
       "      <td>张语格</td>\n",
       "    </tr>\n",
       "    <tr>\n",
       "      <th>10</th>\n",
       "      <td>98aba501-4d12-456e-bc22-4a7000667081</td>\n",
       "      <td>许佳琪</td>\n",
       "    </tr>\n",
       "    <tr>\n",
       "      <th>11</th>\n",
       "      <td>f198b7ac-1fc4-40e5-a395-4133afb03f1b</td>\n",
       "      <td>刘令姿</td>\n",
       "    </tr>\n",
       "    <tr>\n",
       "      <th>12</th>\n",
       "      <td>3756d37a-3de5-4bc4-afb9-c39dedd3aaee</td>\n",
       "      <td>许佳琪</td>\n",
       "    </tr>\n",
       "  </tbody>\n",
       "</table>\n",
       "</div>"
      ],
      "text/plain": [
       "                         persistedFaceId userData\n",
       "0   2b3c6d97-6575-4823-9388-82fd5bf9af4c      许佳琪\n",
       "1   992ae463-5c7a-490f-b7a3-cb574e982162      曾可妮\n",
       "2   e9af1420-37f2-416d-90d5-b2a89a5e9398       喻言\n",
       "3   53f64eeb-2d9e-4a75-af09-d777f95a10bc      马蜀君\n",
       "4   ecf5d926-9624-496b-801b-0447481baec2      宋昕冉\n",
       "5   0996be45-c200-405a-8930-c26ee92247f2       莫寒\n",
       "6   f439eda6-0b30-4717-a46d-87015fdff6c2       孙芮\n",
       "7   709d8326-139d-4026-9946-edf5f16fb7a0      段艺璇\n",
       "8   169faae4-bc26-4e43-afcd-cadeba31c037      葛鑫怡\n",
       "9   13da4f84-3594-4761-9667-f4264e2f3f5f      张语格\n",
       "10  98aba501-4d12-456e-bc22-4a7000667081      许佳琪\n",
       "11  f198b7ac-1fc4-40e5-a395-4133afb03f1b      刘令姿\n",
       "12  3756d37a-3de5-4bc4-afb9-c39dedd3aaee      许佳琪"
      ]
     },
     "execution_count": 125,
     "metadata": {},
     "output_type": "execute_result"
    }
   ],
   "source": [
    "adf = pd.json_normalize(r_get_facelist.json()[\"persistedFaces\"])\n",
    "adf"
   ]
  },
  {
   "cell_type": "code",
   "execution_count": 126,
   "metadata": {},
   "outputs": [
    {
     "data": {
      "text/html": [
       "<div>\n",
       "<style scoped>\n",
       "    .dataframe tbody tr th:only-of-type {\n",
       "        vertical-align: middle;\n",
       "    }\n",
       "\n",
       "    .dataframe tbody tr th {\n",
       "        vertical-align: top;\n",
       "    }\n",
       "\n",
       "    .dataframe thead th {\n",
       "        text-align: right;\n",
       "    }\n",
       "</style>\n",
       "<table border=\"1\" class=\"dataframe\">\n",
       "  <thead>\n",
       "    <tr style=\"text-align: right;\">\n",
       "      <th></th>\n",
       "      <th>persistedFaceId</th>\n",
       "      <th>confidence</th>\n",
       "    </tr>\n",
       "  </thead>\n",
       "  <tbody>\n",
       "    <tr>\n",
       "      <th>0</th>\n",
       "      <td>992ae463-5c7a-490f-b7a3-cb574e982162</td>\n",
       "      <td>0.23632</td>\n",
       "    </tr>\n",
       "    <tr>\n",
       "      <th>1</th>\n",
       "      <td>ecf5d926-9624-496b-801b-0447481baec2</td>\n",
       "      <td>0.16986</td>\n",
       "    </tr>\n",
       "    <tr>\n",
       "      <th>2</th>\n",
       "      <td>2b3c6d97-6575-4823-9388-82fd5bf9af4c</td>\n",
       "      <td>0.10186</td>\n",
       "    </tr>\n",
       "    <tr>\n",
       "      <th>3</th>\n",
       "      <td>98aba501-4d12-456e-bc22-4a7000667081</td>\n",
       "      <td>0.10186</td>\n",
       "    </tr>\n",
       "    <tr>\n",
       "      <th>4</th>\n",
       "      <td>3756d37a-3de5-4bc4-afb9-c39dedd3aaee</td>\n",
       "      <td>0.10186</td>\n",
       "    </tr>\n",
       "    <tr>\n",
       "      <th>5</th>\n",
       "      <td>53f64eeb-2d9e-4a75-af09-d777f95a10bc</td>\n",
       "      <td>0.09914</td>\n",
       "    </tr>\n",
       "    <tr>\n",
       "      <th>6</th>\n",
       "      <td>169faae4-bc26-4e43-afcd-cadeba31c037</td>\n",
       "      <td>0.09779</td>\n",
       "    </tr>\n",
       "    <tr>\n",
       "      <th>7</th>\n",
       "      <td>709d8326-139d-4026-9946-edf5f16fb7a0</td>\n",
       "      <td>0.09728</td>\n",
       "    </tr>\n",
       "    <tr>\n",
       "      <th>8</th>\n",
       "      <td>f439eda6-0b30-4717-a46d-87015fdff6c2</td>\n",
       "      <td>0.09586</td>\n",
       "    </tr>\n",
       "    <tr>\n",
       "      <th>9</th>\n",
       "      <td>0996be45-c200-405a-8930-c26ee92247f2</td>\n",
       "      <td>0.09550</td>\n",
       "    </tr>\n",
       "  </tbody>\n",
       "</table>\n",
       "</div>"
      ],
      "text/plain": [
       "                        persistedFaceId  confidence\n",
       "0  992ae463-5c7a-490f-b7a3-cb574e982162     0.23632\n",
       "1  ecf5d926-9624-496b-801b-0447481baec2     0.16986\n",
       "2  2b3c6d97-6575-4823-9388-82fd5bf9af4c     0.10186\n",
       "3  98aba501-4d12-456e-bc22-4a7000667081     0.10186\n",
       "4  3756d37a-3de5-4bc4-afb9-c39dedd3aaee     0.10186\n",
       "5  53f64eeb-2d9e-4a75-af09-d777f95a10bc     0.09914\n",
       "6  169faae4-bc26-4e43-afcd-cadeba31c037     0.09779\n",
       "7  709d8326-139d-4026-9946-edf5f16fb7a0     0.09728\n",
       "8  f439eda6-0b30-4717-a46d-87015fdff6c2     0.09586\n",
       "9  0996be45-c200-405a-8930-c26ee92247f2     0.09550"
      ]
     },
     "execution_count": 126,
     "metadata": {},
     "output_type": "execute_result"
    }
   ],
   "source": [
    "bdf = pd.json_normalize(r_findsimilars.json())\n",
    "bdf"
   ]
  },
  {
   "cell_type": "code",
   "execution_count": 127,
   "metadata": {},
   "outputs": [
    {
     "data": {
      "text/html": [
       "<div>\n",
       "<style scoped>\n",
       "    .dataframe tbody tr th:only-of-type {\n",
       "        vertical-align: middle;\n",
       "    }\n",
       "\n",
       "    .dataframe tbody tr th {\n",
       "        vertical-align: top;\n",
       "    }\n",
       "\n",
       "    .dataframe thead th {\n",
       "        text-align: right;\n",
       "    }\n",
       "</style>\n",
       "<table border=\"1\" class=\"dataframe\">\n",
       "  <thead>\n",
       "    <tr style=\"text-align: right;\">\n",
       "      <th></th>\n",
       "      <th>persistedFaceId</th>\n",
       "      <th>userData</th>\n",
       "      <th>confidence</th>\n",
       "    </tr>\n",
       "  </thead>\n",
       "  <tbody>\n",
       "    <tr>\n",
       "      <th>1</th>\n",
       "      <td>992ae463-5c7a-490f-b7a3-cb574e982162</td>\n",
       "      <td>曾可妮</td>\n",
       "      <td>0.23632</td>\n",
       "    </tr>\n",
       "    <tr>\n",
       "      <th>3</th>\n",
       "      <td>ecf5d926-9624-496b-801b-0447481baec2</td>\n",
       "      <td>宋昕冉</td>\n",
       "      <td>0.16986</td>\n",
       "    </tr>\n",
       "    <tr>\n",
       "      <th>0</th>\n",
       "      <td>2b3c6d97-6575-4823-9388-82fd5bf9af4c</td>\n",
       "      <td>许佳琪</td>\n",
       "      <td>0.10186</td>\n",
       "    </tr>\n",
       "    <tr>\n",
       "      <th>8</th>\n",
       "      <td>98aba501-4d12-456e-bc22-4a7000667081</td>\n",
       "      <td>许佳琪</td>\n",
       "      <td>0.10186</td>\n",
       "    </tr>\n",
       "    <tr>\n",
       "      <th>9</th>\n",
       "      <td>3756d37a-3de5-4bc4-afb9-c39dedd3aaee</td>\n",
       "      <td>许佳琪</td>\n",
       "      <td>0.10186</td>\n",
       "    </tr>\n",
       "    <tr>\n",
       "      <th>2</th>\n",
       "      <td>53f64eeb-2d9e-4a75-af09-d777f95a10bc</td>\n",
       "      <td>马蜀君</td>\n",
       "      <td>0.09914</td>\n",
       "    </tr>\n",
       "    <tr>\n",
       "      <th>7</th>\n",
       "      <td>169faae4-bc26-4e43-afcd-cadeba31c037</td>\n",
       "      <td>葛鑫怡</td>\n",
       "      <td>0.09779</td>\n",
       "    </tr>\n",
       "    <tr>\n",
       "      <th>6</th>\n",
       "      <td>709d8326-139d-4026-9946-edf5f16fb7a0</td>\n",
       "      <td>段艺璇</td>\n",
       "      <td>0.09728</td>\n",
       "    </tr>\n",
       "    <tr>\n",
       "      <th>5</th>\n",
       "      <td>f439eda6-0b30-4717-a46d-87015fdff6c2</td>\n",
       "      <td>孙芮</td>\n",
       "      <td>0.09586</td>\n",
       "    </tr>\n",
       "    <tr>\n",
       "      <th>4</th>\n",
       "      <td>0996be45-c200-405a-8930-c26ee92247f2</td>\n",
       "      <td>莫寒</td>\n",
       "      <td>0.09550</td>\n",
       "    </tr>\n",
       "  </tbody>\n",
       "</table>\n",
       "</div>"
      ],
      "text/plain": [
       "                        persistedFaceId userData  confidence\n",
       "1  992ae463-5c7a-490f-b7a3-cb574e982162      曾可妮     0.23632\n",
       "3  ecf5d926-9624-496b-801b-0447481baec2      宋昕冉     0.16986\n",
       "0  2b3c6d97-6575-4823-9388-82fd5bf9af4c      许佳琪     0.10186\n",
       "8  98aba501-4d12-456e-bc22-4a7000667081      许佳琪     0.10186\n",
       "9  3756d37a-3de5-4bc4-afb9-c39dedd3aaee      许佳琪     0.10186\n",
       "2  53f64eeb-2d9e-4a75-af09-d777f95a10bc      马蜀君     0.09914\n",
       "7  169faae4-bc26-4e43-afcd-cadeba31c037      葛鑫怡     0.09779\n",
       "6  709d8326-139d-4026-9946-edf5f16fb7a0      段艺璇     0.09728\n",
       "5  f439eda6-0b30-4717-a46d-87015fdff6c2       孙芮     0.09586\n",
       "4  0996be45-c200-405a-8930-c26ee92247f2       莫寒     0.09550"
      ]
     },
     "execution_count": 127,
     "metadata": {},
     "output_type": "execute_result"
    }
   ],
   "source": [
    "pd.merge(adf, bdf,how='inner', on='persistedFaceId').sort_values(by=\"confidence\",ascending = False)"
   ]
  },
  {
   "cell_type": "code",
   "execution_count": null,
   "metadata": {},
   "outputs": [],
   "source": []
  }
 ],
 "metadata": {
  "kernelspec": {
   "display_name": "Python 3",
   "language": "python",
   "name": "python3"
  },
  "language_info": {
   "codemirror_mode": {
    "name": "ipython",
    "version": 3
   },
   "file_extension": ".py",
   "mimetype": "text/x-python",
   "name": "python",
   "nbconvert_exporter": "python",
   "pygments_lexer": "ipython3",
   "version": "3.7.3"
  },
  "toc": {
   "base_numbering": 1,
   "nav_menu": {},
   "number_sections": true,
   "sideBar": true,
   "skip_h1_title": false,
   "title_cell": "Table of Contents",
   "title_sidebar": "Contents",
   "toc_cell": false,
   "toc_position": {},
   "toc_section_display": true,
   "toc_window_display": false
  }
 },
 "nbformat": 4,
 "nbformat_minor": 4
}
